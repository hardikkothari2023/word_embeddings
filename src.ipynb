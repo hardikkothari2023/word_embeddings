{
 "cells": [
  {
   "cell_type": "code",
   "execution_count": null,
   "metadata": {
    "execution": {
     "iopub.execute_input": "2025-01-05T11:56:30.061792Z",
     "iopub.status.busy": "2025-01-05T11:56:30.061449Z",
     "iopub.status.idle": "2025-01-05T11:56:38.533247Z",
     "shell.execute_reply": "2025-01-05T11:56:38.531942Z",
     "shell.execute_reply.started": "2025-01-05T11:56:30.061762Z"
    },
    "trusted": true
   },
   "outputs": [],
   "source": [
    "import pandas as pd\n",
    "from concurrent.futures import ThreadPoolExecutor\n",
    "import os\n",
    "from contractions import contractions_dict\n",
    "import contractions\n",
    "import re\n",
    "from nltk import word_tokenize\n",
    "from nltk.corpus import stopwords\n",
    "from spacy.lang.en import STOP_WORDS as spacy_stopwords\n",
    "import spacy\n",
    "from tqdm import tqdm\n",
    "import pickle\n",
    "from sklearn.feature_extraction.text import TfidfVectorizer\n",
    "import numpy as np\n",
    "from collections import Counter\n",
    "from scipy.sparse.linalg import svds"
   ]
  },
  {
   "cell_type": "code",
   "execution_count": 2,
   "metadata": {
    "trusted": true
   },
   "outputs": [
    {
     "name": "stdout",
     "output_type": "stream",
     "text": [
      "Collecting en-core-web-md==3.8.0\n",
      "  Downloading https://github.com/explosion/spacy-models/releases/download/en_core_web_md-3.8.0/en_core_web_md-3.8.0-py3-none-any.whl (33.5 MB)\n",
      "\u001b[2K     \u001b[90m━━━━━━━━━━━━━━━━━━━━━━━━━━━━━━━━━━━━━━━━\u001b[0m \u001b[32m33.5/33.5 MB\u001b[0m \u001b[31m5.8 MB/s\u001b[0m eta \u001b[36m0:00:00\u001b[0m00:01\u001b[0m00:01\u001b[0mm\n",
      "\u001b[?25hInstalling collected packages: en-core-web-md\n",
      "Successfully installed en-core-web-md-3.8.0\n",
      "\u001b[38;5;2m✔ Download and installation successful\u001b[0m\n",
      "You can now load the package via spacy.load('en_core_web_md')\n"
     ]
    }
   ],
   "source": [
    "!python -m spacy download en_core_web_md"
   ]
  },
  {
   "cell_type": "code",
   "execution_count": 3,
   "metadata": {
    "trusted": true
   },
   "outputs": [],
   "source": [
    "nlp = spacy.load(\"en_core_web_md\",disable=[\"ner\",\"parser\"])"
   ]
  },
  {
   "cell_type": "code",
   "execution_count": 4,
   "metadata": {
    "trusted": true
   },
   "outputs": [],
   "source": [
    "combined_stopwords = set(stopwords.words('english')).union(set(spacy_stopwords))"
   ]
  },
  {
   "cell_type": "code",
   "execution_count": null,
   "metadata": {
    "trusted": true
   },
   "outputs": [],
   "source": [
    "data = pd.read_csv(\"/kaggle/input/sentiment140/training.1600000.processed.noemoticon.csv\",\n",
    "                  encoding=\"latin-1\",header=None,names=[\"sentiment\",\"id\",\"date\",\"flag\",\"username\",\"text\"])"
   ]
  },
  {
   "cell_type": "code",
   "execution_count": null,
   "metadata": {
    "trusted": true
   },
   "outputs": [],
   "source": [
    "data.head()"
   ]
  },
  {
   "cell_type": "code",
   "execution_count": null,
   "metadata": {
    "trusted": true
   },
   "outputs": [],
   "source": [
    "data.drop(labels=data.columns[1:5],axis=1,inplace=True)"
   ]
  },
  {
   "cell_type": "code",
   "execution_count": null,
   "metadata": {
    "trusted": true
   },
   "outputs": [],
   "source": [
    "data.head()"
   ]
  },
  {
   "cell_type": "markdown",
   "metadata": {},
   "source": [
    "# We Will Do 7 step filteration \n"
   ]
  },
  {
   "cell_type": "markdown",
   "metadata": {},
   "source": [
    "### Normalization\n"
   ]
  },
  {
   "cell_type": "code",
   "execution_count": null,
   "metadata": {
    "trusted": true
   },
   "outputs": [],
   "source": [
    "def normalize_tweet(tweet):\n",
    "\n",
    "    return tweet.lower()"
   ]
  },
  {
   "cell_type": "code",
   "execution_count": null,
   "metadata": {
    "trusted": true
   },
   "outputs": [],
   "source": [
    "with ThreadPoolExecutor(max_workers=os.cpu_count()) as pool:\n",
    "\n",
    "    data[\"text\"] = list(pool.map(normalize_tweet,data[\"text\"]))"
   ]
  },
  {
   "cell_type": "markdown",
   "metadata": {},
   "source": [
    "### Contraction Fixing"
   ]
  },
  {
   "cell_type": "code",
   "execution_count": null,
   "metadata": {
    "trusted": true
   },
   "outputs": [],
   "source": [
    "def fix_contractions(tweet):\n",
    "\n",
    "    return contractions.fix(tweet)"
   ]
  },
  {
   "cell_type": "code",
   "execution_count": null,
   "metadata": {
    "trusted": true
   },
   "outputs": [],
   "source": [
    "with ThreadPoolExecutor(max_workers=os.cpu_count()) as pool:\n",
    "\n",
    "    data[\"text\"] = list(pool.map(fix_contractions,data[\"text\"]))"
   ]
  },
  {
   "cell_type": "markdown",
   "metadata": {},
   "source": [
    "### Useless Tokens Removal"
   ]
  },
  {
   "cell_type": "code",
   "execution_count": null,
   "metadata": {
    "trusted": true
   },
   "outputs": [],
   "source": [
    "def remove_noisy_tokens(tweet):\n",
    "\n",
    "    return re.sub(pattern=r'@[a-zA-Z0-9 ]+|#[a-zA-Z0-9 ]+|\\w+:\\/{2}[\\d\\w-]+(\\.[\\d\\w-]+)*(?:(?:\\/[^\\s/]*))*|\\W+|\\d+|<(\"[^\"]*\"|\\'[^\\']*\\'|[^\\'\">])*>|_+|[^\\u0000-\\u007f]+',\n",
    "                 string=tweet,repl=\" \")"
   ]
  },
  {
   "cell_type": "code",
   "execution_count": null,
   "metadata": {
    "trusted": true
   },
   "outputs": [],
   "source": [
    "with ThreadPoolExecutor(max_workers=os.cpu_count()) as pool:\n",
    "\n",
    "    data[\"text\"] = list(pool.map(remove_noisy_tokens,data[\"text\"]))"
   ]
  },
  {
   "cell_type": "markdown",
   "metadata": {},
   "source": [
    "### Leftover Useless Tokens Removal"
   ]
  },
  {
   "cell_type": "code",
   "execution_count": null,
   "metadata": {
    "trusted": true
   },
   "outputs": [],
   "source": [
    "def remove_remaining_noisy_tokens(tweet):\n",
    "\n",
    "    return re.sub(pattern=r'\\b\\w\\b|[^\\u0000-\\u007f]+|_+|\\W+',\n",
    "                 string=tweet,repl=\" \")"
   ]
  },
  {
   "cell_type": "code",
   "execution_count": null,
   "metadata": {
    "trusted": true
   },
   "outputs": [],
   "source": [
    "with ThreadPoolExecutor(max_workers=os.cpu_count()) as pool:\n",
    "\n",
    "    data[\"text\"] = list(pool.map(remove_remaining_noisy_tokens,data[\"text\"]))"
   ]
  },
  {
   "cell_type": "markdown",
   "metadata": {},
   "source": [
    "### Tokenizing The Tokens"
   ]
  },
  {
   "cell_type": "code",
   "execution_count": null,
   "metadata": {
    "trusted": true
   },
   "outputs": [],
   "source": [
    "with ThreadPoolExecutor(max_workers=os.cpu_count()) as pool:\n",
    "\n",
    "    data[\"text\"] = list(pool.map(word_tokenize,data[\"text\"]))"
   ]
  },
  {
   "cell_type": "markdown",
   "metadata": {},
   "source": [
    "### Stopwards Removal"
   ]
  },
  {
   "cell_type": "code",
   "execution_count": null,
   "metadata": {
    "trusted": true
   },
   "outputs": [],
   "source": [
    "def is_stopword(token):\n",
    "\n",
    "    return token not in combined_stopwords"
   ]
  },
  {
   "cell_type": "code",
   "execution_count": null,
   "metadata": {
    "trusted": true
   },
   "outputs": [],
   "source": [
    "def remove_stopwords(tokenized_tweet):\n",
    "\n",
    "    return [token for token in tokenized_tweet if is_stopword(token)]"
   ]
  },
  {
   "cell_type": "code",
   "execution_count": null,
   "metadata": {
    "trusted": true
   },
   "outputs": [],
   "source": [
    "with ThreadPoolExecutor(max_workers=os.cpu_count()) as pool:\n",
    "\n",
    "    data[\"text\"] = list(pool.map(remove_stopwords,data[\"text\"]))"
   ]
  },
  {
   "cell_type": "code",
   "execution_count": null,
   "metadata": {
    "trusted": true
   },
   "outputs": [],
   "source": [
    "with open(\"stopwords_removed.pkl\",\"wb\") as file_handle:\n",
    "    pickle.dump(data[\"text\"],file_handle)"
   ]
  },
  {
   "cell_type": "markdown",
   "metadata": {},
   "source": [
    "### Lemmatization"
   ]
  },
  {
   "cell_type": "code",
   "execution_count": null,
   "metadata": {
    "trusted": true
   },
   "outputs": [],
   "source": [
    "def lemmatize_tweet(tokenized_tweet):\n",
    "\n",
    "    raw_tweet = \" \".join(tokenized_tweet)\n",
    "    doc = nlp(raw_tweet)\n",
    "    lemmatized_tweet = list()\n",
    "\n",
    "    for token in doc:\n",
    "        lemmatized_tweet.append(token.lemma_)\n",
    "\n",
    "    return lemmatized_tweet"
   ]
  },
  {
   "cell_type": "code",
   "execution_count": null,
   "metadata": {
    "trusted": true
   },
   "outputs": [],
   "source": [
    "with ThreadPoolExecutor(max_workers=os.cpu_count()) as pool:\n",
    "\n",
    "    data[\"text\"] = list(tqdm(pool.map(lemmatize_tweet,data[\"text\"])))"
   ]
  },
  {
   "cell_type": "markdown",
   "metadata": {},
   "source": [
    "### Saving the result in .pkl file "
   ]
  },
  {
   "cell_type": "code",
   "execution_count": null,
   "metadata": {
    "trusted": true
   },
   "outputs": [],
   "source": [
    "with open(\"lemmatized_tweets.pkl\",\"wb\") as file_handle:\n",
    "    pickle.dump(data[\"text\"],file_handle)"
   ]
  },
  {
   "cell_type": "code",
   "execution_count": 5,
   "metadata": {
    "execution": {
     "iopub.execute_input": "2025-01-05T11:56:53.599570Z",
     "iopub.status.busy": "2025-01-05T11:56:53.598987Z",
     "iopub.status.idle": "2025-01-05T11:57:00.617119Z",
     "shell.execute_reply": "2025-01-05T11:57:00.615878Z",
     "shell.execute_reply.started": "2025-01-05T11:56:53.599536Z"
    },
    "trusted": true
   },
   "outputs": [],
   "source": [
    "data = pd.DataFrame()\n",
    "\n",
    "with open(\"lemmatized_tweets.pkl\",\"rb\") as file_handle:\n",
    "    data[\"text\"] = pickle.load(file_handle)"
   ]
  },
  {
   "cell_type": "code",
   "execution_count": 24,
   "metadata": {},
   "outputs": [
    {
     "data": {
      "text/html": [
       "<div>\n",
       "<style scoped>\n",
       "    .dataframe tbody tr th:only-of-type {\n",
       "        vertical-align: middle;\n",
       "    }\n",
       "\n",
       "    .dataframe tbody tr th {\n",
       "        vertical-align: top;\n",
       "    }\n",
       "\n",
       "    .dataframe thead th {\n",
       "        text-align: right;\n",
       "    }\n",
       "</style>\n",
       "<table border=\"1\" class=\"dataframe\">\n",
       "  <thead>\n",
       "    <tr style=\"text-align: right;\">\n",
       "      <th></th>\n",
       "      <th>text</th>\n",
       "    </tr>\n",
       "  </thead>\n",
       "  <tbody>\n",
       "    <tr>\n",
       "      <th>0</th>\n",
       "      <td>[twitpic, com, zl, awww, bummer, shoulda, get,...</td>\n",
       "    </tr>\n",
       "    <tr>\n",
       "      <th>1</th>\n",
       "      <td>[upset, update, facebook, texte, cry, result, ...</td>\n",
       "    </tr>\n",
       "    <tr>\n",
       "      <th>2</th>\n",
       "      <td>[manage, save, rest, bound]</td>\n",
       "    </tr>\n",
       "    <tr>\n",
       "      <th>3</th>\n",
       "      <td>[body, feel, itchy, like, fire]</td>\n",
       "    </tr>\n",
       "    <tr>\n",
       "      <th>4</th>\n",
       "      <td>[behave, mad]</td>\n",
       "    </tr>\n",
       "  </tbody>\n",
       "</table>\n",
       "</div>"
      ],
      "text/plain": [
       "                                                text\n",
       "0  [twitpic, com, zl, awww, bummer, shoulda, get,...\n",
       "1  [upset, update, facebook, texte, cry, result, ...\n",
       "2                        [manage, save, rest, bound]\n",
       "3                    [body, feel, itchy, like, fire]\n",
       "4                                      [behave, mad]"
      ]
     },
     "execution_count": 24,
     "metadata": {},
     "output_type": "execute_result"
    }
   ],
   "source": [
    "data.head()"
   ]
  },
  {
   "cell_type": "code",
   "execution_count": 6,
   "metadata": {
    "execution": {
     "iopub.execute_input": "2025-01-05T11:57:02.621496Z",
     "iopub.status.busy": "2025-01-05T11:57:02.621119Z",
     "iopub.status.idle": "2025-01-05T11:57:03.378646Z",
     "shell.execute_reply": "2025-01-05T11:57:03.377337Z",
     "shell.execute_reply.started": "2025-01-05T11:57:02.621463Z"
    },
    "trusted": true
   },
   "outputs": [],
   "source": [
    "converted_raw_text = list(data[\"text\"].apply(lambda x: \" \".join(x)))"
   ]
  },
  {
   "cell_type": "code",
   "execution_count": 7,
   "metadata": {
    "execution": {
     "iopub.execute_input": "2025-01-05T11:57:04.703416Z",
     "iopub.status.busy": "2025-01-05T11:57:04.702956Z",
     "iopub.status.idle": "2025-01-05T11:57:04.953184Z",
     "shell.execute_reply": "2025-01-05T11:57:04.952050Z",
     "shell.execute_reply.started": "2025-01-05T11:57:04.703379Z"
    },
    "trusted": true
   },
   "outputs": [],
   "source": [
    "converted_raw_text = list(filter(lambda x: len(x) > 0,converted_raw_text))"
   ]
  },
  {
   "cell_type": "code",
   "execution_count": 8,
   "metadata": {
    "execution": {
     "iopub.execute_input": "2025-01-05T11:57:09.735509Z",
     "iopub.status.busy": "2025-01-05T11:57:09.735136Z",
     "iopub.status.idle": "2025-01-05T11:57:09.743602Z",
     "shell.execute_reply": "2025-01-05T11:57:09.742452Z",
     "shell.execute_reply.started": "2025-01-05T11:57:09.735475Z"
    },
    "trusted": true
   },
   "outputs": [
    {
     "data": {
      "text/plain": [
       "1408026"
      ]
     },
     "execution_count": 8,
     "metadata": {},
     "output_type": "execute_result"
    }
   ],
   "source": [
    "len(converted_raw_text)"
   ]
  },
  {
   "cell_type": "code",
   "execution_count": 9,
   "metadata": {
    "execution": {
     "iopub.execute_input": "2025-01-05T11:57:12.483824Z",
     "iopub.status.busy": "2025-01-05T11:57:12.483460Z",
     "iopub.status.idle": "2025-01-05T11:57:14.712077Z",
     "shell.execute_reply": "2025-01-05T11:57:14.710994Z",
     "shell.execute_reply.started": "2025-01-05T11:57:12.483794Z"
    },
    "trusted": true
   },
   "outputs": [],
   "source": [
    "vocab = set()\n",
    "\n",
    "for cleaned_tweet in converted_raw_text:\n",
    "    vocab.update(set(cleaned_tweet.split(\" \")))"
   ]
  },
  {
   "cell_type": "code",
   "execution_count": 10,
   "metadata": {
    "execution": {
     "iopub.execute_input": "2025-01-05T11:57:21.180171Z",
     "iopub.status.busy": "2025-01-05T11:57:21.179607Z",
     "iopub.status.idle": "2025-01-05T11:57:21.187032Z",
     "shell.execute_reply": "2025-01-05T11:57:21.185823Z",
     "shell.execute_reply.started": "2025-01-05T11:57:21.180112Z"
    },
    "trusted": true
   },
   "outputs": [
    {
     "data": {
      "text/plain": [
       "273488"
      ]
     },
     "execution_count": 10,
     "metadata": {},
     "output_type": "execute_result"
    }
   ],
   "source": [
    "len(vocab)"
   ]
  },
  {
   "cell_type": "code",
   "execution_count": 11,
   "metadata": {
    "execution": {
     "iopub.execute_input": "2025-01-05T11:57:23.132344Z",
     "iopub.status.busy": "2025-01-05T11:57:23.131977Z",
     "iopub.status.idle": "2025-01-05T11:57:35.495332Z",
     "shell.execute_reply": "2025-01-05T11:57:35.494386Z",
     "shell.execute_reply.started": "2025-01-05T11:57:23.132313Z"
    },
    "trusted": true
   },
   "outputs": [],
   "source": [
    "vectorizer = TfidfVectorizer()\n",
    "vectorized_text = vectorizer.fit_transform(converted_raw_text)"
   ]
  },
  {
   "cell_type": "code",
   "execution_count": 12,
   "metadata": {
    "execution": {
     "iopub.execute_input": "2025-01-05T11:57:37.932363Z",
     "iopub.status.busy": "2025-01-05T11:57:37.932016Z",
     "iopub.status.idle": "2025-01-05T11:57:37.938918Z",
     "shell.execute_reply": "2025-01-05T11:57:37.937699Z",
     "shell.execute_reply.started": "2025-01-05T11:57:37.932335Z"
    },
    "trusted": true
   },
   "outputs": [
    {
     "data": {
      "text/plain": [
       "(1408026, 273469)"
      ]
     },
     "execution_count": 12,
     "metadata": {},
     "output_type": "execute_result"
    }
   ],
   "source": [
    "vectorized_text.shape"
   ]
  },
  {
   "cell_type": "code",
   "execution_count": 13,
   "metadata": {
    "execution": {
     "execution_failed": "2025-01-05T15:04:32.253Z",
     "iopub.execute_input": "2025-01-05T11:58:20.399848Z",
     "iopub.status.busy": "2025-01-05T11:58:20.399474Z"
    },
    "trusted": true
   },
   "outputs": [],
   "source": [
    "cumulative_tfs = Counter()\n",
    "for cleaned_tweet in data[\"text\"]:\n",
    "\n",
    "    cumulative_tfs.update(cleaned_tweet)"
   ]
  },
  {
   "cell_type": "code",
   "execution_count": 14,
   "metadata": {},
   "outputs": [
    {
     "data": {
      "text/plain": [
       "Counter({'go': 102402,\n",
       "         'day': 99448,\n",
       "         'get': 88925,\n",
       "         'good': 82767,\n",
       "         'work': 76169,\n",
       "         'quot': 72094,\n",
       "         'like': 68153,\n",
       "         'want': 64104,\n",
       "         'love': 63841,\n",
       "         'today': 62896,\n",
       "         'time': 57589,\n",
       "         'amp': 48695,\n",
       "         'miss': 48293,\n",
       "         'think': 46344,\n",
       "         'know': 44912,\n",
       "         'feel': 44099,\n",
       "         'lol': 41503,\n",
       "         'night': 40964,\n",
       "         'watch': 38933,\n",
       "         'need': 38403,\n",
       "         'new': 38112,\n",
       "         'home': 37841,\n",
       "         'come': 36888,\n",
       "         'look': 33425,\n",
       "         'tomorrow': 32953,\n",
       "         'sleep': 32023,\n",
       "         'hope': 31419,\n",
       "         'twitter': 30627,\n",
       "         'morning': 29774,\n",
       "         'thank': 29229,\n",
       "         'wait': 28248,\n",
       "         'bad': 28089,\n",
       "         'great': 27781,\n",
       "         'wish': 27496,\n",
       "         'sad': 25608,\n",
       "         'way': 25495,\n",
       "         'week': 25139,\n",
       "         'oh': 24901,\n",
       "         'fun': 24094,\n",
       "         'tonight': 23524,\n",
       "         'happy': 23272,\n",
       "         'right': 22946,\n",
       "         'try': 22914,\n",
       "         'friend': 22801,\n",
       "         'well': 22286,\n",
       "         'thing': 21988,\n",
       "         'leave': 21517,\n",
       "         'bed': 21385,\n",
       "         'people': 21255,\n",
       "         'find': 20784,\n",
       "         'hate': 20643,\n",
       "         'haha': 20635,\n",
       "         'school': 19699,\n",
       "         'start': 19424,\n",
       "         'hour': 19423,\n",
       "         'nice': 18810,\n",
       "         'lt': 18567,\n",
       "         'long': 18139,\n",
       "         'tweet': 18094,\n",
       "         'weekend': 17829,\n",
       "         'sorry': 17201,\n",
       "         'soon': 16433,\n",
       "         'eat': 16407,\n",
       "         'play': 16241,\n",
       "         'com': 16229,\n",
       "         'see': 15923,\n",
       "         'let': 15840,\n",
       "         'rain': 15785,\n",
       "         'guy': 15732,\n",
       "         'make': 15722,\n",
       "         'say': 15125,\n",
       "         'life': 15053,\n",
       "         'little': 15013,\n",
       "         'sick': 15008,\n",
       "         'movie': 14591,\n",
       "         'year': 14476,\n",
       "         'follow': 14354,\n",
       "         'tired': 14181,\n",
       "         'wake': 14028,\n",
       "         'awesome': 13819,\n",
       "         'head': 13699,\n",
       "         'take': 13539,\n",
       "         'ready': 13377,\n",
       "         'hurt': 13128,\n",
       "         'early': 13126,\n",
       "         'suck': 12966,\n",
       "         'lose': 12704,\n",
       "         'help': 12586,\n",
       "         'phone': 12559,\n",
       "         'girl': 12453,\n",
       "         'tell': 12392,\n",
       "         'old': 12198,\n",
       "         'talk': 12167,\n",
       "         'man': 12165,\n",
       "         'house': 12147,\n",
       "         'lot': 12083,\n",
       "         'enjoy': 11433,\n",
       "         'ok': 11356,\n",
       "         'break': 11279,\n",
       "         'finally': 11245,\n",
       "         'summer': 11188,\n",
       "         'big': 11185,\n",
       "         'live': 11112,\n",
       "         'yay': 10955,\n",
       "         'away': 10917,\n",
       "         'song': 10832,\n",
       "         'mean': 10787,\n",
       "         'read': 10660,\n",
       "         'bit': 10657,\n",
       "         'birthday': 10638,\n",
       "         'cool': 10629,\n",
       "         'maybe': 10604,\n",
       "         'buy': 10574,\n",
       "         'sure': 10560,\n",
       "         'finish': 10546,\n",
       "         'game': 10544,\n",
       "         'pretty': 10536,\n",
       "         'hear': 10301,\n",
       "         'hot': 10195,\n",
       "         'guess': 10164,\n",
       "         'run': 10100,\n",
       "         'baby': 10036,\n",
       "         'damn': 9961,\n",
       "         'amazing': 9818,\n",
       "         'listen': 9811,\n",
       "         'party': 9780,\n",
       "         'yeah': 9772,\n",
       "         'end': 9699,\n",
       "         'sun': 9678,\n",
       "         'weather': 9564,\n",
       "         'kind': 9395,\n",
       "         'hard': 9377,\n",
       "         'check': 9350,\n",
       "         'yes': 9311,\n",
       "         'sit': 9233,\n",
       "         'stuff': 9177,\n",
       "         'late': 9103,\n",
       "         'ugh': 9059,\n",
       "         'exam': 9049,\n",
       "         'later': 9024,\n",
       "         'stop': 9017,\n",
       "         'mom': 8926,\n",
       "         'car': 8781,\n",
       "         'th': 8718,\n",
       "         'god': 8621,\n",
       "         'world': 8543,\n",
       "         'omg': 8540,\n",
       "         'stay': 8453,\n",
       "         'cold': 8263,\n",
       "         'happen': 8254,\n",
       "         'ya': 8247,\n",
       "         'sunday': 8235,\n",
       "         'yesterday': 8220,\n",
       "         'monday': 8201,\n",
       "         'job': 8107,\n",
       "         'sound': 8056,\n",
       "         'music': 7978,\n",
       "         'update': 7960,\n",
       "         'pic': 7854,\n",
       "         'actually': 7804,\n",
       "         'hey': 7777,\n",
       "         'friday': 7765,\n",
       "         'wow': 7599,\n",
       "         'study': 7595,\n",
       "         'die': 7577,\n",
       "         'beautiful': 7512,\n",
       "         'glad': 7472,\n",
       "         'post': 7471,\n",
       "         'boy': 7468,\n",
       "         'family': 7464,\n",
       "         'cry': 7433,\n",
       "         'gt': 7422,\n",
       "         'send': 7396,\n",
       "         'kid': 7386,\n",
       "         'meet': 7370,\n",
       "         'lunch': 7327,\n",
       "         'bored': 7319,\n",
       "         'twitpic': 7307,\n",
       "         'fall': 7253,\n",
       "         'dinner': 7200,\n",
       "         'book': 7195,\n",
       "         'food': 7177,\n",
       "         'till': 7176,\n",
       "         'hair': 7145,\n",
       "         'video': 7133,\n",
       "         'class': 7031,\n",
       "         'free': 7001,\n",
       "         'drive': 6854,\n",
       "         'write': 6851,\n",
       "         'month': 6834,\n",
       "         'iphone': 6827,\n",
       "         'poor': 6709,\n",
       "         'forget': 6675,\n",
       "         'win': 6580,\n",
       "         'far': 6578,\n",
       "         'use': 6575,\n",
       "         'forward': 6540,\n",
       "         'place': 6538,\n",
       "         'walk': 6477,\n",
       "         'change': 6471,\n",
       "         'outside': 6445,\n",
       "         'believe': 6428,\n",
       "         'turn': 6412,\n",
       "         'shit': 6401,\n",
       "         'dream': 6341,\n",
       "         'dad': 6293,\n",
       "         'stupid': 6284,\n",
       "         'follower': 6261,\n",
       "         'cute': 6241,\n",
       "         'room': 6153,\n",
       "         'drink': 6135,\n",
       "         'fuck': 6134,\n",
       "         'luck': 6132,\n",
       "         'coffee': 6132,\n",
       "         'real': 6058,\n",
       "         'picture': 6012,\n",
       "         'dog': 6007,\n",
       "         'funny': 5994,\n",
       "         'plan': 5984,\n",
       "         'sweet': 5957,\n",
       "         'headache': 5939,\n",
       "         'pay': 5929,\n",
       "         'okay': 5838,\n",
       "         'call': 5810,\n",
       "         'give': 5800,\n",
       "         'tv': 5769,\n",
       "         'probably': 5743,\n",
       "         'xx': 5714,\n",
       "         'saturday': 5704,\n",
       "         'minute': 5696,\n",
       "         'anymore': 5694,\n",
       "         'busy': 5664,\n",
       "         'ill': 5645,\n",
       "         'spend': 5594,\n",
       "         'close': 5593,\n",
       "         'bring': 5586,\n",
       "         'money': 5568,\n",
       "         'ask': 5559,\n",
       "         'hang': 5526,\n",
       "         'beach': 5515,\n",
       "         'sooo': 5491,\n",
       "         'face': 5479,\n",
       "         'add': 5467,\n",
       "         'catch': 5445,\n",
       "         'hit': 5436,\n",
       "         'mother': 5422,\n",
       "         'wonder': 5413,\n",
       "         'fail': 5403,\n",
       "         'excited': 5349,\n",
       "         'eye': 5343,\n",
       "         'wrong': 5318,\n",
       "         'final': 5305,\n",
       "         'rest': 5263,\n",
       "         'totally': 5256,\n",
       "         'idea': 5255,\n",
       "         'crazy': 5208,\n",
       "         'hopefully': 5207,\n",
       "         'half': 5171,\n",
       "         'super': 5147,\n",
       "         'lovely': 5136,\n",
       "         'pm': 5134,\n",
       "         'computer': 5099,\n",
       "         'rock': 5083,\n",
       "         'kill': 5049,\n",
       "         'clean': 5048,\n",
       "         'goodnight': 4991,\n",
       "         'fan': 4921,\n",
       "         'remember': 4848,\n",
       "         'heart': 4798,\n",
       "         'open': 4771,\n",
       "         'hell': 4751,\n",
       "         'news': 4742,\n",
       "         'trip': 4665,\n",
       "         'office': 4653,\n",
       "         'sister': 4612,\n",
       "         'internet': 4602,\n",
       "         'soo': 4558,\n",
       "         'photo': 4556,\n",
       "         'reply': 4551,\n",
       "         'word': 4546,\n",
       "         'able': 4545,\n",
       "         'hi': 4534,\n",
       "         'wear': 4467,\n",
       "         'blog': 4467,\n",
       "         'pain': 4443,\n",
       "         'mind': 4443,\n",
       "         'brother': 4430,\n",
       "         'boo': 4412,\n",
       "         'ago': 4407,\n",
       "         'care': 4405,\n",
       "         'train': 4395,\n",
       "         'awake': 4371,\n",
       "         'hahaha': 4364,\n",
       "         'shower': 4348,\n",
       "         'st': 4347,\n",
       "         'breakfast': 4295,\n",
       "         'cuz': 4293,\n",
       "         'hug': 4228,\n",
       "         'nite': 4216,\n",
       "         'pick': 4203,\n",
       "         'learn': 4184,\n",
       "         'fix': 4181,\n",
       "         'test': 4162,\n",
       "         'pass': 4160,\n",
       "         'ha': 4134,\n",
       "         'ticket': 4125,\n",
       "         'bore': 4105,\n",
       "         'cut': 4084,\n",
       "         'hand': 4082,\n",
       "         'stick': 4077,\n",
       "         'sunny': 4076,\n",
       "         'move': 4061,\n",
       "         'season': 4044,\n",
       "         'online': 4034,\n",
       "         'thanks': 4026,\n",
       "         'ice': 4016,\n",
       "         'cat': 4015,\n",
       "         'til': 3992,\n",
       "         'text': 3980,\n",
       "         'visit': 3971,\n",
       "         'concert': 3951,\n",
       "         'keep': 3946,\n",
       "         'asleep': 3925,\n",
       "         'hungry': 3918,\n",
       "         'site': 3915,\n",
       "         'set': 3902,\n",
       "         'facebook': 3886,\n",
       "         'high': 3877,\n",
       "         'ride': 3876,\n",
       "         'smile': 3876,\n",
       "         'problem': 3844,\n",
       "         'email': 3838,\n",
       "         'dance': 3835,\n",
       "         'ass': 3826,\n",
       "         'favorite': 3824,\n",
       "         'afternoon': 3815,\n",
       "         'june': 3806,\n",
       "         'bye': 3799,\n",
       "         'burn': 3777,\n",
       "         'homework': 3776,\n",
       "         'person': 3770,\n",
       "         'sigh': 3752,\n",
       "         'la': 3734,\n",
       "         'sore': 3726,\n",
       "         'suppose': 3719,\n",
       "         'seriously': 3713,\n",
       "         'crap': 3713,\n",
       "         'shopping': 3713,\n",
       "         'shop': 3712,\n",
       "         'hello': 3702,\n",
       "         'red': 3687,\n",
       "         'show': 3675,\n",
       "         'instead': 3672,\n",
       "         'nap': 3660,\n",
       "         'course': 3634,\n",
       "         'min': 3610,\n",
       "         'fast': 3588,\n",
       "         'city': 3558,\n",
       "         'xd': 3544,\n",
       "         'welcome': 3541,\n",
       "         'excite': 3523,\n",
       "         'true': 3514,\n",
       "         'www': 3508,\n",
       "         'laptop': 3471,\n",
       "         'dead': 3445,\n",
       "         'message': 3441,\n",
       "         'hehe': 3440,\n",
       "         'holiday': 3421,\n",
       "         'church': 3420,\n",
       "         'star': 3406,\n",
       "         'bout': 3401,\n",
       "         'fine': 3398,\n",
       "         'water': 3398,\n",
       "         'second': 3386,\n",
       "         'link': 3374,\n",
       "         'soooo': 3358,\n",
       "         'sell': 3344,\n",
       "         'page': 3335,\n",
       "         'lady': 3333,\n",
       "         'mad': 3331,\n",
       "         'reason': 3315,\n",
       "         'short': 3315,\n",
       "         'feeling': 3310,\n",
       "         'foot': 3304,\n",
       "         'vote': 3301,\n",
       "         'sign': 3292,\n",
       "         'aww': 3275,\n",
       "         'youtube': 3266,\n",
       "         'wonderful': 3265,\n",
       "         'laugh': 3263,\n",
       "         'town': 3254,\n",
       "         'ipod': 3248,\n",
       "         'fly': 3245,\n",
       "         'drop': 3244,\n",
       "         'evening': 3241,\n",
       "         'store': 3227,\n",
       "         'couple': 3215,\n",
       "         'gym': 3214,\n",
       "         'moment': 3208,\n",
       "         'mood': 3193,\n",
       "         'cream': 3192,\n",
       "         'date': 3189,\n",
       "         'album': 3173,\n",
       "         'easy': 3171,\n",
       "         'tea': 3169,\n",
       "         'join': 3153,\n",
       "         'order': 3146,\n",
       "         'thought': 3125,\n",
       "         'goin': 3123,\n",
       "         'figure': 3114,\n",
       "         'math': 3104,\n",
       "         'line': 3103,\n",
       "         'award': 3084,\n",
       "         'ah': 3081,\n",
       "         'story': 3072,\n",
       "         'list': 3067,\n",
       "         'worry': 3062,\n",
       "         'weird': 3062,\n",
       "         'air': 3047,\n",
       "         'download': 3046,\n",
       "         'save': 3043,\n",
       "         'dress': 3043,\n",
       "         'pool': 3040,\n",
       "         'perfect': 3040,\n",
       "         'realize': 3038,\n",
       "         'english': 3027,\n",
       "         'fb': 3017,\n",
       "         'decide': 3014,\n",
       "         'account': 3012,\n",
       "         'pack': 2987,\n",
       "         'throat': 2967,\n",
       "         'relax': 2960,\n",
       "         'nd': 2957,\n",
       "         'park': 2951,\n",
       "         'lil': 2945,\n",
       "         'mum': 2940,\n",
       "         'shoot': 2920,\n",
       "         'point': 2909,\n",
       "         'boring': 2892,\n",
       "         'sleepy': 2890,\n",
       "         'tour': 2890,\n",
       "         'chocolate': 2875,\n",
       "         'definitely': 2838,\n",
       "         'band': 2837,\n",
       "         'episode': 2832,\n",
       "         'slow': 2826,\n",
       "         'lucky': 2801,\n",
       "         'lie': 2774,\n",
       "         'lmao': 2757,\n",
       "         'sunshine': 2755,\n",
       "         'xxx': 2749,\n",
       "         'black': 2745,\n",
       "         'flight': 2736,\n",
       "         'chat': 2735,\n",
       "         'one': 2728,\n",
       "         'light': 2718,\n",
       "         'interesting': 2709,\n",
       "         'answer': 2704,\n",
       "         'worth': 2690,\n",
       "         'team': 2679,\n",
       "         'share': 2679,\n",
       "         'da': 2675,\n",
       "         'card': 2671,\n",
       "         'cook': 2670,\n",
       "         'college': 2670,\n",
       "         'wedding': 2669,\n",
       "         'dear': 2664,\n",
       "         'shirt': 2658,\n",
       "         'beat': 2648,\n",
       "         'moon': 2642,\n",
       "         'past': 2640,\n",
       "         'meeting': 2626,\n",
       "         'london': 2623,\n",
       "         'working': 2619,\n",
       "         'project': 2616,\n",
       "         'paper': 2603,\n",
       "         'kick': 2603,\n",
       "         'leg': 2602,\n",
       "         'jonas': 2601,\n",
       "         'blue': 2584,\n",
       "         'vacation': 2580,\n",
       "         'myspace': 2569,\n",
       "         'understand': 2567,\n",
       "         'chance': 2559,\n",
       "         'bus': 2555,\n",
       "         'jealous': 2551,\n",
       "         'parent': 2540,\n",
       "         'finger': 2535,\n",
       "         'mac': 2525,\n",
       "         'tuesday': 2518,\n",
       "         'body': 2515,\n",
       "         'dude': 2502,\n",
       "         'cake': 2497,\n",
       "         'green': 2496,\n",
       "         'beer': 2496,\n",
       "         'upset': 2494,\n",
       "         'horrible': 2491,\n",
       "         'load': 2490,\n",
       "         'warm': 2486,\n",
       "         'fucking': 2472,\n",
       "         'hold': 2469,\n",
       "         'support': 2462,\n",
       "         'mtv': 2455,\n",
       "         'window': 2450,\n",
       "         'comment': 2443,\n",
       "         'flu': 2442,\n",
       "         'shoe': 2441,\n",
       "         'number': 2429,\n",
       "         'plus': 2423,\n",
       "         'upload': 2405,\n",
       "         'special': 2405,\n",
       "         'cousin': 2402,\n",
       "         'app': 2399,\n",
       "         'stomach': 2392,\n",
       "         'wtf': 2382,\n",
       "         'boyfriend': 2382,\n",
       "         'lazy': 2365,\n",
       "         'white': 2365,\n",
       "         'forever': 2362,\n",
       "         'voice': 2357,\n",
       "         'huge': 2349,\n",
       "         'especially': 2347,\n",
       "         'power': 2342,\n",
       "         'uk': 2337,\n",
       "         'throw': 2322,\n",
       "         'hmm': 2321,\n",
       "         'apparently': 2321,\n",
       "         'bike': 2316,\n",
       "         'different': 2288,\n",
       "         'lay': 2286,\n",
       "         'thinking': 2284,\n",
       "         'cancel': 2281,\n",
       "         'website': 2278,\n",
       "         'airport': 2274,\n",
       "         'speak': 2271,\n",
       "         'film': 2266,\n",
       "         'question': 2264,\n",
       "         'mess': 2258,\n",
       "         'cheer': 2258,\n",
       "         'ahh': 2254,\n",
       "         'small': 2253,\n",
       "         'father': 2249,\n",
       "         'tire': 2241,\n",
       "         'graduation': 2241,\n",
       "         'thursday': 2239,\n",
       "         'camera': 2234,\n",
       "         'apple': 2225,\n",
       "         'pray': 2222,\n",
       "         'crash': 2221,\n",
       "         'inside': 2220,\n",
       "         'rainy': 2213,\n",
       "         'tummy': 2211,\n",
       "         'google': 2205,\n",
       "         'garden': 2204,\n",
       "         'age': 2198,\n",
       "         'congrat': 2195,\n",
       "         'touch': 2195,\n",
       "         'officially': 2189,\n",
       "         'mr': 2184,\n",
       "         'pizza': 2182,\n",
       "         'begin': 2179,\n",
       "         'bbq': 2179,\n",
       "         'unfortunately': 2174,\n",
       "         'grow': 2168,\n",
       "         'woman': 2158,\n",
       "         'road': 2157,\n",
       "         'son': 2155,\n",
       "         'note': 2155,\n",
       "         'hospital': 2151,\n",
       "         'fight': 2147,\n",
       "         'tear': 2146,\n",
       "         'doctor': 2120,\n",
       "         'awww': 2117,\n",
       "         'shame': 2114,\n",
       "         'record': 2112,\n",
       "         'radio': 2097,\n",
       "         'cd': 2097,\n",
       "         'lonely': 2093,\n",
       "         'storm': 2091,\n",
       "         'box': 2087,\n",
       "         'hubby': 2082,\n",
       "         'smell': 2081,\n",
       "         'bet': 2073,\n",
       "         'yummy': 2066,\n",
       "         'july': 2062,\n",
       "         'chicken': 2061,\n",
       "         'cup': 2061,\n",
       "         'david': 2060,\n",
       "         'cover': 2051,\n",
       "         'possible': 2050,\n",
       "         'ache': 2050,\n",
       "         'bless': 2050,\n",
       "         'xoxo': 2049,\n",
       "         'service': 2044,\n",
       "         'stand': 2037,\n",
       "         'sing': 2037,\n",
       "         'arrive': 2035,\n",
       "         'fair': 2035,\n",
       "         'goodbye': 2035,\n",
       "         'mail': 2030,\n",
       "         'bum': 2028,\n",
       "         'club': 2027,\n",
       "         'bitch': 2020,\n",
       "         'block': 2019,\n",
       "         'twilight': 2006,\n",
       "         'freak': 2006,\n",
       "         'case': 2005,\n",
       "         'sort': 2003,\n",
       "         'stress': 2001,\n",
       "         'type': 1980,\n",
       "         'tooth': 1980,\n",
       "         'wine': 1980,\n",
       "         'pull': 1969,\n",
       "         'laker': 1967,\n",
       "         'proud': 1964,\n",
       "         'chill': 1954,\n",
       "         'shall': 1952,\n",
       "         'wednesday': 1950,\n",
       "         'miley': 1949,\n",
       "         'deal': 1945,\n",
       "         'french': 1943,\n",
       "         'bag': 1934,\n",
       "         'interview': 1921,\n",
       "         'fact': 1915,\n",
       "         'appreciate': 1913,\n",
       "         'bar': 1911,\n",
       "         'wit': 1903,\n",
       "         'ps': 1895,\n",
       "         'search': 1893,\n",
       "         'safe': 1892,\n",
       "         'ahhh': 1891,\n",
       "         'lame': 1890,\n",
       "         'kiss': 1886,\n",
       "         'scary': 1886,\n",
       "         'ball': 1885,\n",
       "         'glass': 1882,\n",
       "         'near': 1879,\n",
       "         'low': 1877,\n",
       "         'rip': 1875,\n",
       "         'taste': 1873,\n",
       "         'everybody': 1872,\n",
       "         'business': 1871,\n",
       "         'revision': 1869,\n",
       "         'woo': 1869,\n",
       "         'expect': 1868,\n",
       "         'young': 1863,\n",
       "         'hangover': 1855,\n",
       "         'guitar': 1853,\n",
       "         'gettin': 1853,\n",
       "         'clothe': 1849,\n",
       "         'company': 1844,\n",
       "         'sadly': 1843,\n",
       "         'agree': 1842,\n",
       "         'stuck': 1840,\n",
       "         'ear': 1837,\n",
       "         'piss': 1837,\n",
       "         'issue': 1836,\n",
       "         'daughter': 1835,\n",
       "         'gorgeous': 1833,\n",
       "         'yea': 1827,\n",
       "         'exciting': 1827,\n",
       "         'mommy': 1823,\n",
       "         'roll': 1820,\n",
       "         'sim': 1819,\n",
       "         'wife': 1818,\n",
       "         'return': 1815,\n",
       "         'fire': 1814,\n",
       "         'mile': 1812,\n",
       "         'door': 1812,\n",
       "         'art': 1805,\n",
       "         'round': 1801,\n",
       "         'remind': 1778,\n",
       "         'puppy': 1777,\n",
       "         'plane': 1769,\n",
       "         'tan': 1766,\n",
       "         'drunk': 1765,\n",
       "         'jus': 1763,\n",
       "         'arm': 1753,\n",
       "         'fit': 1752,\n",
       "         'fml': 1751,\n",
       "         'camp': 1751,\n",
       "         'vip': 1751,\n",
       "         'aw': 1742,\n",
       "         'single': 1737,\n",
       "         'cos': 1736,\n",
       "         'sale': 1728,\n",
       "         'child': 1727,\n",
       "         'history': 1725,\n",
       "         'dark': 1725,\n",
       "         'pop': 1722,\n",
       "         'count': 1720,\n",
       "         'self': 1716,\n",
       "         'peace': 1716,\n",
       "         'design': 1715,\n",
       "         'practice': 1714,\n",
       "         'promise': 1713,\n",
       "         'tom': 1706,\n",
       "         'hr': 1705,\n",
       "         'version': 1702,\n",
       "         'bug': 1702,\n",
       "         'scare': 1701,\n",
       "         'waste': 1701,\n",
       "         'ruin': 1697,\n",
       "         'web': 1692,\n",
       "         'ahead': 1691,\n",
       "         'hotel': 1681,\n",
       "         'matter': 1676,\n",
       "         'release': 1674,\n",
       "         'vegas': 1673,\n",
       "         'bear': 1673,\n",
       "         'death': 1672,\n",
       "         'joke': 1672,\n",
       "         'complete': 1667,\n",
       "         'state': 1665,\n",
       "         'travel': 1665,\n",
       "         'event': 1662,\n",
       "         'd': 1659,\n",
       "         'cough': 1656,\n",
       "         'notice': 1650,\n",
       "         'bird': 1648,\n",
       "         'country': 1645,\n",
       "         'alot': 1642,\n",
       "         'sis': 1638,\n",
       "         'random': 1635,\n",
       "         'traffic': 1634,\n",
       "         'mention': 1627,\n",
       "         'currently': 1625,\n",
       "         'cross': 1624,\n",
       "         'hmmm': 1623,\n",
       "         'nose': 1621,\n",
       "         'annoying': 1620,\n",
       "         'shine': 1617,\n",
       "         'group': 1616,\n",
       "         'terrible': 1615,\n",
       "         'cookie': 1612,\n",
       "         'absolutely': 1610,\n",
       "         'xo': 1609,\n",
       "         'blow': 1607,\n",
       "         'fat': 1605,\n",
       "         'bro': 1605,\n",
       "         'de': 1603,\n",
       "         'dvd': 1585,\n",
       "         'cheese': 1584,\n",
       "         'watchin': 1584,\n",
       "         'screen': 1582,\n",
       "         'fever': 1582,\n",
       "         'track': 1579,\n",
       "         'bloody': 1578,\n",
       "         'daddy': 1577,\n",
       "         'quick': 1576,\n",
       "         'chillin': 1574,\n",
       "         'blood': 1573,\n",
       "         'pc': 1572,\n",
       "         'ouch': 1572,\n",
       "         'nail': 1568,\n",
       "         'alright': 1568,\n",
       "         'mall': 1565,\n",
       "         'put': 1564,\n",
       "         'twit': 1562,\n",
       "         'allow': 1555,\n",
       "         'dm': 1553,\n",
       "         'babe': 1551,\n",
       "         'fam': 1551,\n",
       "         'blah': 1550,\n",
       "         'hrs': 1550,\n",
       "         'hill': 1549,\n",
       "         'yo': 1549,\n",
       "         'lately': 1545,\n",
       "         'yum': 1543,\n",
       "         'extra': 1540,\n",
       "         'pink': 1539,\n",
       "         'fill': 1537,\n",
       "         'result': 1534,\n",
       "         'land': 1534,\n",
       "         'bite': 1531,\n",
       "         'yr': 1527,\n",
       "         'angel': 1526,\n",
       "         'nearly': 1524,\n",
       "         'completely': 1518,\n",
       "         'wash': 1513,\n",
       "         'kate': 1511,\n",
       "         'deserve': 1509,\n",
       "         'magic': 1509,\n",
       "         'taylor': 1505,\n",
       "         'street': 1502,\n",
       "         'sexy': 1498,\n",
       "         'etc': 1497,\n",
       "         'heat': 1495,\n",
       "         'feed': 1492,\n",
       "         'step': 1491,\n",
       "         'celebrate': 1490,\n",
       "         'steal': 1488,\n",
       "         'nick': 1488,\n",
       "         'sky': 1487,\n",
       "         'act': 1484,\n",
       "         'ring': 1483,\n",
       "         'gosh': 1479,\n",
       "         'awful': 1476,\n",
       "         'fantastic': 1476,\n",
       "         'rd': 1475,\n",
       "         'lesson': 1475,\n",
       "         'brain': 1468,\n",
       "         'gay': 1466,\n",
       "         'itune': 1459,\n",
       "         'delete': 1458,\n",
       "         'profile': 1458,\n",
       "         'wat': 1457,\n",
       "         'invite': 1454,\n",
       "         'peep': 1454,\n",
       "         'nyc': 1451,\n",
       "         'memory': 1449,\n",
       "         'trouble': 1448,\n",
       "         'husband': 1447,\n",
       "         'double': 1443,\n",
       "         'mcfly': 1440,\n",
       "         'race': 1439,\n",
       "         'view': 1433,\n",
       "         'na': 1429,\n",
       "         'manage': 1422,\n",
       "         'future': 1422,\n",
       "         'joy': 1419,\n",
       "         'paint': 1419,\n",
       "         'eh': 1417,\n",
       "         'bill': 1414,\n",
       "         'usually': 1413,\n",
       "         'shift': 1408,\n",
       "         'bank': 1406,\n",
       "         'followfriday': 1404,\n",
       "         'sooooo': 1402,\n",
       "         'wet': 1397,\n",
       "         'jon': 1396,\n",
       "         'revise': 1396,\n",
       "         'joe': 1394,\n",
       "         'prepare': 1391,\n",
       "         'blackberry': 1390,\n",
       "         'huh': 1390,\n",
       "         'argh': 1387,\n",
       "         'tweetdeck': 1387,\n",
       "         'channel': 1380,\n",
       "         'laundry': 1379,\n",
       "         'fish': 1378,\n",
       "         'trailer': 1369,\n",
       "         'code': 1367,\n",
       "         'mark': 1366,\n",
       "         'coz': 1365,\n",
       "         'normal': 1364,\n",
       "         'experience': 1363,\n",
       "         'france': 1360,\n",
       "         'degree': 1357,\n",
       "         'buddy': 1355,\n",
       "         'dentist': 1355,\n",
       "         'gig': 1355,\n",
       "         'major': 1355,\n",
       "         'shut': 1353,\n",
       "         'piece': 1348,\n",
       "         'bb': 1348,\n",
       "         'draw': 1347,\n",
       "         'middle': 1342,\n",
       "         'report': 1342,\n",
       "         'quiet': 1340,\n",
       "         'blast': 1339,\n",
       "         'prob': 1330,\n",
       "         'left': 1329,\n",
       "         'swim': 1329,\n",
       "         'graduate': 1329,\n",
       "         'review': 1328,\n",
       "         'king': 1328,\n",
       "         'usual': 1328,\n",
       "         'shot': 1325,\n",
       "         'kitty': 1324,\n",
       "         'badly': 1323,\n",
       "         'trek': 1320,\n",
       "         'mobile': 1319,\n",
       "         'john': 1314,\n",
       "         'fresh': 1314,\n",
       "         'ny': 1314,\n",
       "         'dang': 1312,\n",
       "         'folk': 1309,\n",
       "         'silly': 1308,\n",
       "         'present': 1307,\n",
       "         'vid': 1302,\n",
       "         'choice': 1301,\n",
       "         'net': 1298,\n",
       "         'forgot': 1297,\n",
       "         'def': 1296,\n",
       "         'screw': 1295,\n",
       "         'law': 1295,\n",
       "         'chris': 1294,\n",
       "         'scared': 1293,\n",
       "         'info': 1292,\n",
       "         'mmm': 1291,\n",
       "         'feelin': 1291,\n",
       "         'knee': 1291,\n",
       "         'session': 1289,\n",
       "         'contact': 1288,\n",
       "         'tune': 1284,\n",
       "         'key': 1282,\n",
       "         'match': 1278,\n",
       "         'surprise': 1276,\n",
       "         'straight': 1270,\n",
       "         'plz': 1269,\n",
       "         'prom': 1264,\n",
       "         'epic': 1261,\n",
       "         'pre': 1259,\n",
       "         'cleaning': 1259,\n",
       "         'ly': 1259,\n",
       "         'color': 1258,\n",
       "         'exactly': 1257,\n",
       "         'nervous': 1250,\n",
       "         'background': 1249,\n",
       "         'mouth': 1248,\n",
       "         'war': 1248,\n",
       "         'series': 1247,\n",
       "         'san': 1242,\n",
       "         'gift': 1242,\n",
       "         'bf': 1240,\n",
       "         'tweep': 1239,\n",
       "         'milk': 1238,\n",
       "         'gutte': 1236,\n",
       "         'copy': 1233,\n",
       "         'chip': 1232,\n",
       "         'space': 1230,\n",
       "         'battery': 1226,\n",
       "         'spot': 1224,\n",
       "         'jump': 1224,\n",
       "         'lake': 1224,\n",
       "         'cell': 1221,\n",
       "         'hilarious': 1221,\n",
       "         'anyways': 1221,\n",
       "         'sunburn': 1216,\n",
       "         'sum': 1214,\n",
       "         'training': 1213,\n",
       "         'bright': 1212,\n",
       "         'doubt': 1212,\n",
       "         'dr': 1210,\n",
       "         'teach': 1209,\n",
       "         'somebody': 1208,\n",
       "         'dry': 1207,\n",
       "         'woot': 1206,\n",
       "         'fav': 1205,\n",
       "         'wall': 1202,\n",
       "         'price': 1201,\n",
       "         'adam': 1201,\n",
       "         'schedule': 1198,\n",
       "         'bummer': 1195,\n",
       "         'american': 1191,\n",
       "         'tree': 1188,\n",
       "         'button': 1187,\n",
       "         'hahah': 1186,\n",
       "         'workout': 1184,\n",
       "         'mate': 1184,\n",
       "         'essay': 1183,\n",
       "         'board': 1183,\n",
       "         'studio': 1181,\n",
       "         'hannah': 1181,\n",
       "         'south': 1177,\n",
       "         'offer': 1176,\n",
       "         'egg': 1174,\n",
       "         'ng': 1171,\n",
       "         'neck': 1170,\n",
       "         'swine': 1168,\n",
       "         'drag': 1167,\n",
       "         'thunder': 1165,\n",
       "         'floor': 1165,\n",
       "         'midnight': 1165,\n",
       "         'freakin': 1158,\n",
       "         'push': 1157,\n",
       "         'row': 1156,\n",
       "         'teacher': 1155,\n",
       "         'bath': 1154,\n",
       "         'vs': 1153,\n",
       "         'favourite': 1151,\n",
       "         'chicago': 1148,\n",
       "         'jack': 1148,\n",
       "         'fave': 1147,\n",
       "         'create': 1146,\n",
       "         'assignment': 1145,\n",
       "         'area': 1143,\n",
       "         'boss': 1142,\n",
       "         'darn': 1142,\n",
       "         'reach': 1141,\n",
       "         'realise': 1140,\n",
       "         'shout': 1139,\n",
       "         'available': 1137,\n",
       "         'energy': 1136,\n",
       "         'crack': 1136,\n",
       "         'ton': 1134,\n",
       "         'clear': 1133,\n",
       "         'tip': 1132,\n",
       "         'bother': 1132,\n",
       "         'rise': 1131,\n",
       "         'spring': 1130,\n",
       "         'seat': 1130,\n",
       "         's': 1130,\n",
       "         'science': 1130,\n",
       "         'strong': 1129,\n",
       "         'outta': 1128,\n",
       "         'system': 1128,\n",
       "         'bff': 1127,\n",
       "         'receive': 1127,\n",
       "         ...})"
      ]
     },
     "execution_count": 14,
     "metadata": {},
     "output_type": "execute_result"
    }
   ],
   "source": [
    "cumulative_tfs"
   ]
  },
  {
   "cell_type": "code",
   "execution_count": 15,
   "metadata": {},
   "outputs": [],
   "source": [
    "most_frequent_tokens = cumulative_tfs.most_common(30000)\n",
    "most_frequent_tokens = dict(most_frequent_tokens)\n",
    "truncated_vocab = list(most_frequent_tokens.keys())\n",
    "\n",
    "truncated_vocab2idx = dict(zip(truncated_vocab,range(len(truncated_vocab))))"
   ]
  },
  {
   "cell_type": "code",
   "execution_count": 17,
   "metadata": {},
   "outputs": [
    {
     "name": "stderr",
     "output_type": "stream",
     "text": [
      "/home/aniket/AIML_HA_JI/fundamentals-of-text-to-vectors/.venv/lib/python3.10/site-packages/sklearn/feature_extraction/text.py:1368: UserWarning: Upper case characters found in vocabulary while 'lowercase' is True. These entries will not be matched with any documents\n",
      "  warnings.warn(\n"
     ]
    }
   ],
   "source": [
    "vectorizer = TfidfVectorizer(vocabulary=truncated_vocab2idx)\n",
    "vectorized_text = vectorizer.fit_transform(converted_raw_text)"
   ]
  },
  {
   "cell_type": "code",
   "execution_count": 22,
   "metadata": {},
   "outputs": [
    {
     "data": {
      "text/plain": [
       "(1408026, 30000)"
      ]
     },
     "execution_count": 22,
     "metadata": {},
     "output_type": "execute_result"
    }
   ],
   "source": [
    "vectorized_text.shape"
   ]
  },
  {
   "cell_type": "code",
   "execution_count": 28,
   "metadata": {},
   "outputs": [],
   "source": [
    "Q, S, QT = svds(vectorized_text)"
   ]
  },
  {
   "cell_type": "code",
   "execution_count": null,
   "metadata": {},
   "outputs": [],
   "source": [
    "Q,S,QT"
   ]
  },
  {
   "cell_type": "code",
   "execution_count": 33,
   "metadata": {},
   "outputs": [
    {
     "name": "stdout",
     "output_type": "stream",
     "text": [
      "Q shape: (1408026, 6)\n",
      "S shape: (6,)\n",
      "QT shape: (6, 30000)\n"
     ]
    }
   ],
   "source": [
    "print(\"Q shape:\",Q.shape)\n",
    "print(\"S shape:\",S.shape)\n",
    "print(\"QT shape:\",QT.shape)"
   ]
  },
  {
   "cell_type": "code",
   "execution_count": null,
   "metadata": {},
   "outputs": [],
   "source": []
  }
 ],
 "metadata": {
  "kaggle": {
   "accelerator": "none",
   "dataSources": [
    {
     "datasetId": 2477,
     "sourceId": 4140,
     "sourceType": "datasetVersion"
    },
    {
     "datasetId": 6427175,
     "sourceId": 10375914,
     "sourceType": "datasetVersion"
    }
   ],
   "dockerImageVersionId": 30822,
   "isGpuEnabled": false,
   "isInternetEnabled": true,
   "language": "python",
   "sourceType": "notebook"
  },
  "kernelspec": {
   "display_name": ".venv",
   "language": "python",
   "name": "python3"
  },
  "language_info": {
   "codemirror_mode": {
    "name": "ipython",
    "version": 3
   },
   "file_extension": ".py",
   "mimetype": "text/x-python",
   "name": "python",
   "nbconvert_exporter": "python",
   "pygments_lexer": "ipython3",
   "version": "3.10.12"
  }
 },
 "nbformat": 4,
 "nbformat_minor": 4
}
